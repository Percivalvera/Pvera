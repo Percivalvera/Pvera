{
 "cells": [
  {
   "cell_type": "markdown",
   "id": "2e90a448-759e-4998-a8e2-740129e641aa",
   "metadata": {},
   "source": [
    "<h1> Data Science Tools and Ecosystems</h1>"
   ]
  },
  {
   "cell_type": "markdown",
   "id": "c024935b-270f-407a-8428-a27579b27580",
   "metadata": {},
   "source": [
    "<h2>Author</h2>\n",
    "Percival Vera"
   ]
  },
  {
   "cell_type": "markdown",
   "id": "4bd8399d-9540-4855-b320-86c8ec1d3018",
   "metadata": {},
   "source": [
    "<h1> Data Science Tools and Ecosystem are summarize</h1>"
   ]
  },
  {
   "cell_type": "markdown",
   "id": "08115423-a1d1-44bc-9d2e-ffafdd34a74c",
   "metadata": {},
   "source": [
    "**Objectives:** \n",
    "\n",
    "* Popular languages for Data Science:\n",
    "* Python\n",
    "* C++\n",
    "* Java\n",
    "* Ruby"
   ]
  },
  {
   "cell_type": "markdown",
   "id": "8d352ce7-f794-4416-9be2-a10cf4c87de8",
   "metadata": {},
   "source": [
    "<h1>Some of the popular languages that Data Scientist use are:</h1>\n",
    "\n",
    "() Python, SQL, R, Scala. Java, C++"
   ]
  },
  {
   "cell_type": "markdown",
   "id": "14e383d4-8615-45e7-acf9-8dd889ad478a",
   "metadata": {},
   "source": [
    "Some of the commonly used libraries used by Data Scientist include:\n",
    "\n",
    "() Pandas, Seaborn, Keras, Scipy"
   ]
  },
  {
   "cell_type": "markdown",
   "id": "f8338dae-d6bb-4811-b0e1-c0ad807297c4",
   "metadata": {},
   "source": [
    "| Data Science Tool | \n",
    "|:--------:-------:|\n",
    "|Jupyter Notebook   |\n",
    "Apache Spark2       |\n",
    "RStudio         3     |"
   ]
  },
  {
   "cell_type": "markdown",
   "id": "44c6252a-38ec-4b1b-a7c7-8f6c24ca8759",
   "metadata": {
    "jp-MarkdownHeadingCollapsed": true
   },
   "source": [
    "This is a simple arithmetic expression multiply then add integers\n",
    "\n",
    "(3*4)+5"
   ]
  },
  {
   "cell_type": "code",
   "execution_count": null,
   "id": "f912a7f8-4d9f-43ef-a676-27e116cb41c2",
   "metadata": {
    "vscode": {
     "languageId": "python"
    }
   },
   "outputs": [],
   "source": [
    "This will convert 200 minutes to hours by dividing by 60\n",
    "\n",
    "minutes = 200\n",
    "\n",
    "hours = minutes /60\n",
    "\n",
    "hours = 200/60\n",
    "\n",
    "print(hours)"
   ]
  }
 ],
 "metadata": {
  "kernelspec": {
   "display_name": "",
   "name": ""
  },
  "language_info": {
   "name": ""
  }
 },
 "nbformat": 4,
 "nbformat_minor": 5
}
